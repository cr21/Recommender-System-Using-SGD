{
 "cells": [
  {
   "cell_type": "markdown",
   "id": "da3e4930",
   "metadata": {
    "papermill": {
     "duration": 0.009244,
     "end_time": "2022-06-01T22:31:43.676011",
     "exception": false,
     "start_time": "2022-06-01T22:31:43.666767",
     "status": "completed"
    },
    "tags": []
   },
   "source": [
    "## Movie Recommendation\n",
    "\n",
    "\n"
   ]
  },
  {
   "cell_type": "markdown",
   "source": [
    "* use SGD algorithm to predict the rating given User Id, and Movie Id.\n",
    "\n",
    "* Predicted rating $\\hat{y}_{ij}$ for user i, movie j pair is calcuated as $\\hat{y}_{ij} = \\mu + b_i + c_j + u_i^T v_j$ , here we will be finding the best values of $b_{i}$ and $c_{j}$ using SGD algorithm with the optimization problem for N users and M movies is defined as\n",
    "\n"
   ],
   "metadata": {
    "collapsed": false,
    "pycharm": {
     "name": "#%% md\n"
    }
   }
  },
  {
   "cell_type": "markdown",
   "source": [
    "$$\n",
    "L = \\min_{ b, c, \\{ u_i \\}_{i=1}^N, \\{ v_j \\}_{j=1}^M}\n",
    "\\quad\n",
    "\\alpha \\Big(\n",
    "    \\sum_{j} \\sum_{k} v_{jk}^2\n",
    "    + \\sum_{i} \\sum_{k} u_{ik}^2\n",
    "    + \\sum_{i} b_i^2\n",
    "    + \\sum_{j} c_i^2\n",
    "    \\Big)\n",
    "+ \\sum_{i,j \\in \\mathcal{I}^{\\text{train}}}\n",
    "    (y_{ij} - \\mu - b_i - c_j - u_i^T v_j)^2\n",
    "$$"
   ],
   "metadata": {
    "collapsed": false,
    "pycharm": {
     "name": "#%% md\n"
    }
   }
  },
  {
   "cell_type": "markdown",
   "source": [
    "<ul>\n",
    "<li><span class=\"math\">\\(\\mu\\)</span> : scalar mean rating</li>\n",
    "<li><span class=\"math\">\\(b_i\\)</span> : scalar bias term for user <span class=\"math\">\\(i\\)</span></li>\n",
    "<li><span class=\"math\">\\(c_j\\)</span> : scalar bias term for movie <span class=\"math\">\\(j\\)</span></li>\n",
    "<li><span class=\"math\">\\(u_i\\)</span> : K-dimensional vector for user <span class=\"math\">\\(i\\)</span></li>\n",
    "<li><span class=\"math\">\\(v_j\\)</span> : K-dimensional vector for movie <span class=\"math\">\\(j\\)</span></li>\n",
    "</ul>\n",
    "\n",
    " $ \\ $\n"
   ],
   "metadata": {
    "collapsed": false,
    "pycharm": {
     "name": "#%% md\n"
    }
   }
  },
  {
   "cell_type": "markdown",
   "source": [
    "## Load Library"
   ],
   "metadata": {
    "collapsed": false,
    "pycharm": {
     "name": "#%% md\n"
    }
   }
  },
  {
   "cell_type": "code",
   "execution_count": 9,
   "outputs": [],
   "source": [
    "import numpy as np\n",
    "import pandas as pd\n",
    "from scipy.sparse import csr_matrix\n",
    "from sklearn.utils.extmath import randomized_svd\n",
    "from sklearn.utils.extmath import randomized_svd\n",
    "from sklearn.metrics import mean_squared_error\n",
    "from sklearn.linear_model import LogisticRegression\n",
    "from tqdm import tqdm\n",
    "import seaborn as sns, numpy as np\n",
    "from sklearn.metrics import confusion_matrix, f1_score\n",
    "from sklearn.ensemble import RandomForestClassifier"
   ],
   "metadata": {
    "collapsed": false,
    "pycharm": {
     "name": "#%%\n"
    }
   }
  },
  {
   "cell_type": "markdown",
   "source": [
    "# Load Dataset"
   ],
   "metadata": {
    "collapsed": false,
    "pycharm": {
     "name": "#%% md\n"
    }
   }
  },
  {
   "cell_type": "code",
   "execution_count": 10,
   "outputs": [
    {
     "name": "stdout",
     "output_type": "stream",
     "text": [
      "Number of unique users  943\n",
      "Number of unique movies  1662\n"
     ]
    },
    {
     "data": {
      "text/plain": "   user_id  item_id  rating\n0      772       36       3\n1      471      228       5\n2      641      401       4\n3      312       98       4\n4       58      504       5",
      "text/html": "<div>\n<style scoped>\n    .dataframe tbody tr th:only-of-type {\n        vertical-align: middle;\n    }\n\n    .dataframe tbody tr th {\n        vertical-align: top;\n    }\n\n    .dataframe thead th {\n        text-align: right;\n    }\n</style>\n<table border=\"1\" class=\"dataframe\">\n  <thead>\n    <tr style=\"text-align: right;\">\n      <th></th>\n      <th>user_id</th>\n      <th>item_id</th>\n      <th>rating</th>\n    </tr>\n  </thead>\n  <tbody>\n    <tr>\n      <th>0</th>\n      <td>772</td>\n      <td>36</td>\n      <td>3</td>\n    </tr>\n    <tr>\n      <th>1</th>\n      <td>471</td>\n      <td>228</td>\n      <td>5</td>\n    </tr>\n    <tr>\n      <th>2</th>\n      <td>641</td>\n      <td>401</td>\n      <td>4</td>\n    </tr>\n    <tr>\n      <th>3</th>\n      <td>312</td>\n      <td>98</td>\n      <td>4</td>\n    </tr>\n    <tr>\n      <th>4</th>\n      <td>58</td>\n      <td>504</td>\n      <td>5</td>\n    </tr>\n  </tbody>\n</table>\n</div>"
     },
     "execution_count": 10,
     "metadata": {},
     "output_type": "execute_result"
    }
   ],
   "source": [
    "ratings_df = pd.read_csv('data/ratings_train.csv')\n",
    "\n",
    "unique_users = len(ratings_df['user_id'].value_counts())\n",
    "print(\"Number of unique users \", unique_users)\n",
    "\n",
    "unique_movies = len(ratings_df['item_id'].value_counts())\n",
    "print(\"Number of unique movies \", unique_movies)\n",
    "ratings_df.head()"
   ],
   "metadata": {
    "collapsed": false,
    "pycharm": {
     "name": "#%%\n"
    }
   }
  },
  {
   "cell_type": "markdown",
   "source": [
    "## Formulate as a Graph Problem\n",
    "\n",
    "* We can construct a **weighted undirect graph** from a given pair of user and movie, and weight will be rating given to movie by user.\n",
    "* we can construct this matrix like $A[i][j]=r_{ij}$ here $i$ is user_id, $j$ is movie_id and $r_{ij}$ is rating given by user $i$ to the movie $j$"
   ],
   "metadata": {
    "collapsed": false,
    "pycharm": {
     "name": "#%% md\n"
    }
   }
  },
  {
   "cell_type": "markdown",
   "source": [
    "### Adjancency matrix representaiton of User Movie Rating data"
   ],
   "metadata": {
    "collapsed": false,
    "pycharm": {
     "name": "#%% md\n"
    }
   }
  },
  {
   "cell_type": "code",
   "execution_count": 11,
   "outputs": [],
   "source": [
    "\n",
    "\n",
    "def get_rating_matrix(df, rowptr='user_id',colptr='item_id', y='rating'):\n",
    "    '''In this function, we will compute sparse matrix representation of user movie and ratings'''\n",
    "    \n",
    "    csr = csr_matrix((df[y], (df[rowptr],df[colptr])))\n",
    "    return csr\n",
    "    \n",
    "    \n",
    "# Adjancey matrix representation\n",
    "user_movie_matrix = get_rating_matrix(ratings_df)"
   ],
   "metadata": {
    "collapsed": false,
    "pycharm": {
     "name": "#%%\n"
    }
   }
  },
  {
   "cell_type": "code",
   "execution_count": 12,
   "outputs": [
    {
     "data": {
      "text/plain": "True"
     },
     "execution_count": 12,
     "metadata": {},
     "output_type": "execute_result"
    }
   ],
   "source": [
    "def grader_matrix(matrix):\n",
    "  assert(matrix.shape==(943,1681))\n",
    "  return True\n",
    "grader_matrix(user_movie_matrix)"
   ],
   "metadata": {
    "collapsed": false,
    "pycharm": {
     "name": "#%%\n"
    }
   }
  },
  {
   "cell_type": "markdown",
   "source": [
    "## Implicit User Feautures and Movie Features using Matrix Factorization\n",
    "\n",
    "We will Apply SVD decomposition on the Adjaceny matrix  $A$ and get three matrices $U, \\sum, V$ such that $U \\times \\sum \\times V^T = A$, <br> \n",
    "if $A$ is of dimensions $N \\times M$ then <br>\n",
    "$U$ is of $N \\times k$, <br>\n",
    "$\\sum$ is of $k \\times k$ and <br>\n",
    "$V$ is $M \\times k$ dimensions. <br>\n",
    "\n",
    "   * Matrix $U$ can be represented as matrix **representation of users**, where each row $u_{i}$ represents a **k-dimensional vector for a user**\n",
    "\n",
    "   * Matrix $V$ can be represented as matrix **representation of movies**, where each row $v_{j}$ represents a **k-dimensional vector for a movie.**\n"
   ],
   "metadata": {
    "collapsed": false,
    "pycharm": {
     "name": "#%% md\n"
    }
   }
  },
  {
   "cell_type": "code",
   "execution_count": 13,
   "outputs": [
    {
     "name": "stdout",
     "output_type": "stream",
     "text": [
      "User Matrix shape (943, 500)\n",
      "Diagonal Matrix shape (500,)\n",
      "Movie Matrix shape (1681, 500)\n"
     ]
    }
   ],
   "source": [
    "\n",
    "U, Sigma, VT = randomized_svd(user_movie_matrix, n_components=500,n_iter=5, random_state=1024)\n",
    "print(\"User Matrix shape\",U.shape)\n",
    "print(\"Diagonal Matrix shape\",Sigma.shape)\n",
    "print(\"Movie Matrix shape\",VT.T.shape)"
   ],
   "metadata": {
    "collapsed": false,
    "pycharm": {
     "name": "#%%\n"
    }
   }
  },
  {
   "cell_type": "markdown",
   "source": [
    "* Each **row of matrix $U$** can be said as **100 dimensional embedding of users** given user_movie pairs\n",
    "* Each **row of matrix $VT$** can be said as **100 dimensional embedding of Movies** given user_movie pairs"
   ],
   "metadata": {
    "collapsed": false,
    "pycharm": {
     "name": "#%% md\n"
    }
   }
  },
  {
   "cell_type": "markdown",
   "source": [
    "### Mean User Rating"
   ],
   "metadata": {
    "collapsed": false,
    "pycharm": {
     "name": "#%% md\n"
    }
   }
  },
  {
   "cell_type": "code",
   "execution_count": 14,
   "outputs": [
    {
     "name": "stdout",
     "output_type": "stream",
     "text": [
      "Mean user rating across dataset for all movies 3.529480398257623\n"
     ]
    }
   ],
   "source": [
    "def m_u(ratings):\n",
    "    '''In this function, we will compute mean for all the ratings'''\n",
    "    mu = ratings.mean()\n",
    "    return mu\n",
    "\n",
    "mu_user = m_u(ratings_df['rating'])\n",
    "print(\"Mean user rating across dataset for all movies\", mu_user)"
   ],
   "metadata": {
    "collapsed": false,
    "pycharm": {
     "name": "#%%\n"
    }
   }
  },
  {
   "cell_type": "code",
   "execution_count": 15,
   "outputs": [
    {
     "data": {
      "text/plain": "True"
     },
     "execution_count": 15,
     "metadata": {},
     "output_type": "execute_result"
    }
   ],
   "source": [
    "def grader_mean(mu):\n",
    "  assert(np.round(mu,3)==3.529)\n",
    "  return True\n",
    "mean_user_movie_rating=m_u(ratings_df['rating'])\n",
    "grader_mean(mean_user_movie_rating)"
   ],
   "metadata": {
    "collapsed": false,
    "pycharm": {
     "name": "#%%\n"
    }
   }
  },
  {
   "cell_type": "code",
   "execution_count": 16,
   "outputs": [],
   "source": [
    "def initialize(dim):\n",
    "    '''In this function, we will initialize bias value 'B' and 'C'.'''\n",
    "    # initalize the value to zeros \n",
    "    # return output as a list of zeros \n",
    "    \n",
    "    return list(np.zeros(dim, dtype=int))\n",
    "    \n",
    "\n",
    "\n",
    "\n",
    "     "
   ],
   "metadata": {
    "collapsed": false,
    "pycharm": {
     "name": "#%%\n"
    }
   }
  },
  {
   "cell_type": "code",
   "execution_count": 17,
   "outputs": [
    {
     "data": {
      "text/plain": "True"
     },
     "execution_count": 17,
     "metadata": {},
     "output_type": "execute_result"
    }
   ],
   "source": [
    "def grader_dim(b_i,c_j):\n",
    "    assert(len(b_i)==943 and np.sum(b_i)==0)\n",
    "    assert(len(c_j)==1681 and np.sum(c_j)==0)\n",
    "    return True\n",
    "\n",
    "    \n",
    "b_i = initialize(user_movie_matrix.shape[0])\n",
    "c_j = initialize(user_movie_matrix.shape[1])\n",
    "grader_dim(b_i,c_j)"
   ],
   "metadata": {
    "collapsed": false,
    "pycharm": {
     "name": "#%%\n"
    }
   }
  },
  {
   "cell_type": "markdown",
   "source": [
    "### Dertivative of Loss Function "
   ],
   "metadata": {
    "collapsed": false,
    "pycharm": {
     "name": "#%% md\n"
    }
   }
  },
  {
   "cell_type": "markdown",
   "source": [
    "\n",
    "\n",
    "$$\n",
    "dL/db_i = \n",
    "\\alpha *2 * b_i\n",
    "+ \\Big(-2*\\sum_{i,j \\in \\mathcal{I}^{\\text{train}}}\n",
    "    (y_{ij} - \\mu - b_i - c_j - u_i^T v_j)\\Big)\n",
    "$$\n",
    "\n",
    "\n",
    "\n",
    "\n"
   ],
   "metadata": {
    "collapsed": false,
    "pycharm": {
     "name": "#%% md\n"
    }
   }
  },
  {
   "cell_type": "markdown",
   "source": [
    "$$\n",
    "dL/dc_j =\n",
    "\\alpha *2 * c_j\n",
    "+ \\Big(-2 *\\sum_{i,j \\in \\mathcal{I}^{\\text{train}}}\n",
    "    (y_{ij} - \\mu - b_i - c_j - u_i^T v_j)\\Big)\n",
    "$$\n"
   ],
   "metadata": {
    "collapsed": false,
    "pycharm": {
     "name": "#%% md\n"
    }
   }
  },
  {
   "cell_type": "code",
   "execution_count": 18,
   "id": "e900ca17",
   "metadata": {
    "execution": {
     "iopub.execute_input": "2022-06-01T22:31:47.088976Z",
     "iopub.status.busy": "2022-06-01T22:31:47.088380Z",
     "iopub.status.idle": "2022-06-01T22:31:47.093374Z",
     "shell.execute_reply": "2022-06-01T22:31:47.092655Z"
    },
    "papermill": {
     "duration": 0.017192,
     "end_time": "2022-06-01T22:31:47.095585",
     "exception": false,
     "start_time": "2022-06-01T22:31:47.078393",
     "status": "completed"
    },
    "tags": []
   },
   "outputs": [],
   "source": [
    "def derivative_db(user_id,item_id,rating,U,V,mu,alpha):\n",
    "    '''In this function, we will compute dL/db_i'''\n",
    "#     reg_term = 2 * alpha * b_i[user_id]\n",
    "#     loss_term = -2* ( rating- mu - b_i[user_id] - c_j[item_id] -  np.dot(U[user_id], V.T[item_id]) )\n",
    "    return  (2*alpha*(b_i[user_id])) - 2*(rating - mu - b_i[user_id] - c_j[item_id] - ((U[user_id,:].T).dot(V[:,item_id])))\n",
    "    \n",
    "#     return reg_term + loss_term\n",
    "    \n",
    "    "
   ]
  },
  {
   "cell_type": "code",
   "execution_count": 19,
   "id": "6c0256f2",
   "metadata": {
    "execution": {
     "iopub.execute_input": "2022-06-01T22:31:47.115263Z",
     "iopub.status.busy": "2022-06-01T22:31:47.114876Z",
     "iopub.status.idle": "2022-06-01T22:31:47.156616Z",
     "shell.execute_reply": "2022-06-01T22:31:47.155494Z"
    },
    "papermill": {
     "duration": 0.055192,
     "end_time": "2022-06-01T22:31:47.159583",
     "exception": false,
     "start_time": "2022-06-01T22:31:47.104391",
     "status": "completed"
    },
    "tags": []
   },
   "outputs": [
    {
     "data": {
      "text/plain": "True"
     },
     "execution_count": 19,
     "metadata": {},
     "output_type": "execute_result"
    }
   ],
   "source": [
    "def grader_db(value):\n",
    "    assert(np.round(value,3)==-0.931)\n",
    "    return True\n",
    "U1, Sigma, V1 = randomized_svd(user_movie_matrix, n_components=2,n_iter=5, random_state=24)\n",
    "\n",
    "# Please don't change random state\n",
    "# Here we are considering n_componets = 2 for our convinence\n",
    "alpha=0.01 \n",
    "value=derivative_db(312,98,4,U1,V1,mu_user,alpha)\n",
    "\n",
    "grader_db(value)"
   ]
  },
  {
   "cell_type": "code",
   "execution_count": 20,
   "id": "bd5d5bd4",
   "metadata": {
    "execution": {
     "iopub.execute_input": "2022-06-01T22:31:47.196797Z",
     "iopub.status.busy": "2022-06-01T22:31:47.196210Z",
     "iopub.status.idle": "2022-06-01T22:31:47.203855Z",
     "shell.execute_reply": "2022-06-01T22:31:47.202901Z"
    },
    "papermill": {
     "duration": 0.029152,
     "end_time": "2022-06-01T22:31:47.206546",
     "exception": false,
     "start_time": "2022-06-01T22:31:47.177394",
     "status": "completed"
    },
    "tags": []
   },
   "outputs": [],
   "source": [
    "def derivative_dc(user_id,item_id,rating,U,V,mu):\n",
    "    '''In this function, we will compute dL/dc_j'''\n",
    "#     reg_term = 2 * alpha * c_j[item_id]\n",
    "#     loss_term = -2* ( rating- mu - b_i[user_id] - c_j[item_id] -  np.dot(U[user_id], V.T[item_id]) )\n",
    "#     return reg_term + loss_term \n",
    "    return (2*alpha*(c_j[item_id])) - 2*(rating - mu - b_i[user_id] - c_j[item_id] - ((U[user_id,:].T).dot(V[:,item_id])))\n"
   ]
  },
  {
   "cell_type": "code",
   "execution_count": 21,
   "id": "52459c68",
   "metadata": {
    "execution": {
     "iopub.execute_input": "2022-06-01T22:31:47.244655Z",
     "iopub.status.busy": "2022-06-01T22:31:47.244058Z",
     "iopub.status.idle": "2022-06-01T22:31:47.284863Z",
     "shell.execute_reply": "2022-06-01T22:31:47.283966Z"
    },
    "papermill": {
     "duration": 0.06288,
     "end_time": "2022-06-01T22:31:47.287701",
     "exception": false,
     "start_time": "2022-06-01T22:31:47.224821",
     "status": "completed"
    },
    "tags": []
   },
   "outputs": [
    {
     "data": {
      "text/plain": "True"
     },
     "execution_count": 21,
     "metadata": {},
     "output_type": "execute_result"
    }
   ],
   "source": [
    "def grader_dc(value):\n",
    "    assert(np.round(value,3)==-2.929)\n",
    "    return True\n",
    "U1, Sigma, V1 = randomized_svd(user_movie_matrix, n_components=2,n_iter=5, random_state=24)\n",
    "# Please don't change random state\n",
    "# Here we are considering n_componets = 2 for our convinence\n",
    "alpha=0.01 \n",
    "value=derivative_dc(58,504,5,U1,V1,mu_user)\n",
    "grader_dc(value)"
   ]
  },
  {
   "cell_type": "markdown",
   "id": "9fcc3a37",
   "metadata": {
    "papermill": {
     "duration": 0.017356,
     "end_time": "2022-06-01T22:31:47.322800",
     "exception": false,
     "start_time": "2022-06-01T22:31:47.305444",
     "status": "completed"
    },
    "tags": []
   },
   "source": [
    "## Training Optimizer\n",
    "\n",
    "<pre>\n",
    "for each epoch:\n",
    "    for each pair of (user, movie):\n",
    "        b_i =  b_i - learning_rate * dL/db_i\n",
    "        c_j =  c_j - learning_rate * dL/dc_j\n",
    "predict the ratings with formula\n",
    "</pre>\n",
    "$\\hat{y}_{ij} = \\mu + b_i + c_j + \\text{dot_product}(u_i , v_j) $\n",
    "\n"
   ]
  },
  {
   "cell_type": "code",
   "execution_count": 22,
   "id": "1699f00d",
   "metadata": {
    "execution": {
     "iopub.execute_input": "2022-06-01T22:31:47.360124Z",
     "iopub.status.busy": "2022-06-01T22:31:47.359547Z",
     "iopub.status.idle": "2022-06-01T22:31:47.368225Z",
     "shell.execute_reply": "2022-06-01T22:31:47.367146Z"
    },
    "papermill": {
     "duration": 0.031015,
     "end_time": "2022-06-01T22:31:47.371595",
     "exception": false,
     "start_time": "2022-06-01T22:31:47.340580",
     "status": "completed"
    },
    "tags": []
   },
   "outputs": [],
   "source": [
    "# hyperparemeters \n",
    "epochs = 100\n",
    "lr = 0.0001\n",
    "alpha = 0.001\n",
    "MSE_list=[]"
   ]
  },
  {
   "cell_type": "code",
   "execution_count": 23,
   "id": "74c4c198",
   "metadata": {
    "execution": {
     "iopub.execute_input": "2022-06-01T22:31:47.405357Z",
     "iopub.status.busy": "2022-06-01T22:31:47.404969Z",
     "iopub.status.idle": "2022-06-01T22:33:12.120220Z",
     "shell.execute_reply": "2022-06-01T22:33:12.119339Z"
    },
    "papermill": {
     "duration": 84.734967,
     "end_time": "2022-06-01T22:33:12.124150",
     "exception": false,
     "start_time": "2022-06-01T22:31:47.389183",
     "status": "completed"
    },
    "tags": []
   },
   "outputs": [
    {
     "name": "stderr",
     "output_type": "stream",
     "text": [
      "100%|██████████| 100/100 [01:19<00:00,  1.25it/s]\n"
     ]
    }
   ],
   "source": [
    "\n",
    "# initialize users and movies bias rating\n",
    "b_i = initialize(user_movie_matrix.shape[0])\n",
    "c_j = initialize(user_movie_matrix.shape[1])\n",
    "\n",
    "adjacency_matrix = user_movie_matrix.toarray()\n",
    "\n",
    "## generate Users and Movies features using matrix factorization ( SVD decomposition)\n",
    "U, sigma, V = randomized_svd(adjacency_matrix,n_components=300,n_iter=5,random_state=240)\n",
    "\n",
    "\n",
    "\n",
    "for epoch in tqdm(range(epochs)):\n",
    "    y_preds = []\n",
    "    # iterate over each user movie rating pairs and do gradient descent update\n",
    "    for user, movie, rating in zip(ratings_df['user_id'], ratings_df['item_id'], ratings_df['rating']):\n",
    "        # gradient update for user bias rating\n",
    "        b_i[user] = b_i[user] - (lr * derivative_db(user,movie,rating,U,V,mu_user,alpha))\n",
    "        # gradient update for movie bias rating\n",
    "        c_j[movie] = c_j[movie] - (  lr * derivative_dc(user, movie, rating, U,V, mu_user))\n",
    "        \n",
    "    # get prediction for each epoch\n",
    "    for user, movie, rating in zip(ratings_df['user_id'], ratings_df['item_id'], ratings_df['rating']):\n",
    "        \n",
    "        y_pred = mu_user + b_i[user] + c_j[movie] + np.dot(U[user],V.T[movie])\n",
    "        y_preds.append(y_pred)\n",
    "    \n",
    "    loss = mean_squared_error(ratings_df['rating'],y_preds)\n",
    "    \n",
    "    MSE_list.append(loss)\n",
    "    \n",
    "        "
   ]
  },
  {
   "cell_type": "markdown",
   "id": "07c73439",
   "metadata": {
    "papermill": {
     "duration": 0.013974,
     "end_time": "2022-06-01T22:33:12.151883",
     "exception": false,
     "start_time": "2022-06-01T22:33:12.137909",
     "status": "completed"
    },
    "tags": []
   },
   "source": [
    "### Plot loss function"
   ]
  },
  {
   "cell_type": "code",
   "execution_count": 24,
   "id": "6c61011e",
   "metadata": {
    "execution": {
     "iopub.execute_input": "2022-06-01T22:33:12.181301Z",
     "iopub.status.busy": "2022-06-01T22:33:12.180930Z",
     "iopub.status.idle": "2022-06-01T22:33:12.396085Z",
     "shell.execute_reply": "2022-06-01T22:33:12.395352Z"
    },
    "papermill": {
     "duration": 0.232199,
     "end_time": "2022-06-01T22:33:12.397836",
     "exception": false,
     "start_time": "2022-06-01T22:33:12.165637",
     "status": "completed"
    },
    "tags": []
   },
   "outputs": [
    {
     "data": {
      "text/plain": "<Figure size 432x288 with 1 Axes>",
      "image/png": "[encoded data removed]"
     },
     "metadata": {},
     "output_type": "display_data"
    }
   ],
   "source": [
    "import matplotlib.pyplot as plt\n",
    "\n",
    "plt.plot([i for i in range(epochs)],MSE_list)\n",
    "v=plt.xticks(ticks=list(range(0,epochs,10)))\n",
    "plt.xlabel('Epoch Numers')\n",
    "plt.ylabel('MSE')\n",
    "plt.title('Epoch number vs MSE')\n",
    "plt.show()"
   ]
  },
  {
   "cell_type": "markdown",
   "id": "dacb3894",
   "metadata": {
    "papermill": {
     "duration": 0.014303,
     "end_time": "2022-06-01T22:33:12.426645",
     "exception": false,
     "start_time": "2022-06-01T22:33:12.412342",
     "status": "completed"
    },
    "tags": []
   },
   "source": [
    "### Predicting Gender of the user given User Features"
   ]
  },
  {
   "cell_type": "code",
   "execution_count": 25,
   "id": "16aa1831",
   "metadata": {
    "execution": {
     "iopub.execute_input": "2022-06-01T22:33:12.457448Z",
     "iopub.status.busy": "2022-06-01T22:33:12.456800Z",
     "iopub.status.idle": "2022-06-01T22:33:12.479191Z",
     "shell.execute_reply": "2022-06-01T22:33:12.478021Z"
    },
    "papermill": {
     "duration": 0.040566,
     "end_time": "2022-06-01T22:33:12.481498",
     "exception": false,
     "start_time": "2022-06-01T22:33:12.440932",
     "status": "completed"
    },
    "tags": [],
    "pycharm": {
     "name": "#%%\n"
    }
   },
   "outputs": [
    {
     "data": {
      "text/plain": "     user_id  age  is_male  orig_user_id\n0          0   24        1             1\n1          1   53        0             2\n2          2   23        1             3\n3          3   24        1             4\n4          4   33        0             5\n..       ...  ...      ...           ...\n938      938   26        0           939\n939      939   32        1           940\n940      940   20        1           941\n941      941   48        0           942\n942      942   22        1           943\n\n[943 rows x 4 columns]",
      "text/html": "<div>\n<style scoped>\n    .dataframe tbody tr th:only-of-type {\n        vertical-align: middle;\n    }\n\n    .dataframe tbody tr th {\n        vertical-align: top;\n    }\n\n    .dataframe thead th {\n        text-align: right;\n    }\n</style>\n<table border=\"1\" class=\"dataframe\">\n  <thead>\n    <tr style=\"text-align: right;\">\n      <th></th>\n      <th>user_id</th>\n      <th>age</th>\n      <th>is_male</th>\n      <th>orig_user_id</th>\n    </tr>\n  </thead>\n  <tbody>\n    <tr>\n      <th>0</th>\n      <td>0</td>\n      <td>24</td>\n      <td>1</td>\n      <td>1</td>\n    </tr>\n    <tr>\n      <th>1</th>\n      <td>1</td>\n      <td>53</td>\n      <td>0</td>\n      <td>2</td>\n    </tr>\n    <tr>\n      <th>2</th>\n      <td>2</td>\n      <td>23</td>\n      <td>1</td>\n      <td>3</td>\n    </tr>\n    <tr>\n      <th>3</th>\n      <td>3</td>\n      <td>24</td>\n      <td>1</td>\n      <td>4</td>\n    </tr>\n    <tr>\n      <th>4</th>\n      <td>4</td>\n      <td>33</td>\n      <td>0</td>\n      <td>5</td>\n    </tr>\n    <tr>\n      <th>...</th>\n      <td>...</td>\n      <td>...</td>\n      <td>...</td>\n      <td>...</td>\n    </tr>\n    <tr>\n      <th>938</th>\n      <td>938</td>\n      <td>26</td>\n      <td>0</td>\n      <td>939</td>\n    </tr>\n    <tr>\n      <th>939</th>\n      <td>939</td>\n      <td>32</td>\n      <td>1</td>\n      <td>940</td>\n    </tr>\n    <tr>\n      <th>940</th>\n      <td>940</td>\n      <td>20</td>\n      <td>1</td>\n      <td>941</td>\n    </tr>\n    <tr>\n      <th>941</th>\n      <td>941</td>\n      <td>48</td>\n      <td>0</td>\n      <td>942</td>\n    </tr>\n    <tr>\n      <th>942</th>\n      <td>942</td>\n      <td>22</td>\n      <td>1</td>\n      <td>943</td>\n    </tr>\n  </tbody>\n</table>\n<p>943 rows × 4 columns</p>\n</div>"
     },
     "execution_count": 25,
     "metadata": {},
     "output_type": "execute_result"
    }
   ],
   "source": [
    "user_info_df = pd.read_csv('data/user_info.csv')\n",
    "user_info_df"
   ]
  },
  {
   "cell_type": "markdown",
   "id": "739780a4",
   "metadata": {
    "papermill": {
     "duration": 0.01447,
     "end_time": "2022-06-01T22:33:12.510777",
     "exception": false,
     "start_time": "2022-06-01T22:33:12.496307",
     "status": "completed"
    },
    "tags": []
   },
   "source": [
    "### Distribution of User Age\n"
   ]
  },
  {
   "cell_type": "code",
   "execution_count": 26,
   "id": "0e1c5e82",
   "metadata": {
    "execution": {
     "iopub.execute_input": "2022-06-01T22:33:12.541728Z",
     "iopub.status.busy": "2022-06-01T22:33:12.541027Z",
     "iopub.status.idle": "2022-06-01T22:33:12.785081Z",
     "shell.execute_reply": "2022-06-01T22:33:12.784146Z"
    },
    "papermill": {
     "duration": 0.261731,
     "end_time": "2022-06-01T22:33:12.787135",
     "exception": false,
     "start_time": "2022-06-01T22:33:12.525404",
     "status": "completed"
    },
    "tags": []
   },
   "outputs": [
    {
     "data": {
      "text/plain": "Text(0.5, 1.0, 'Distribution of Age across All users')"
     },
     "execution_count": 26,
     "metadata": {},
     "output_type": "execute_result"
    },
    {
     "data": {
      "text/plain": "<Figure size 432x288 with 1 Axes>",
      "image/png": "[encoded data removed]"
     },
     "metadata": {},
     "output_type": "display_data"
    }
   ],
   "source": [
    "ax = sns.histplot(user_info_df['age'],kde=True)\n",
    "ax.set_title(\"Distribution of Age across All users\")"
   ]
  },
  {
   "cell_type": "markdown",
   "id": "4a829d31",
   "metadata": {
    "papermill": {
     "duration": 0.014795,
     "end_time": "2022-06-01T22:33:12.816709",
     "exception": false,
     "start_time": "2022-06-01T22:33:12.801914",
     "status": "completed"
    },
    "tags": []
   },
   "source": [
    "### Distribution of Age for Male and Female"
   ]
  },
  {
   "cell_type": "code",
   "execution_count": 27,
   "id": "4300e764",
   "metadata": {
    "execution": {
     "iopub.execute_input": "2022-06-01T22:33:12.848619Z",
     "iopub.status.busy": "2022-06-01T22:33:12.848188Z",
     "iopub.status.idle": "2022-06-01T22:33:13.337977Z",
     "shell.execute_reply": "2022-06-01T22:33:13.336851Z"
    },
    "papermill": {
     "duration": 0.509094,
     "end_time": "2022-06-01T22:33:13.340823",
     "exception": false,
     "start_time": "2022-06-01T22:33:12.831729",
     "status": "completed"
    },
    "tags": []
   },
   "outputs": [
    {
     "data": {
      "text/plain": "<seaborn.axisgrid.FacetGrid at 0x7ff05e74f3d0>"
     },
     "execution_count": 27,
     "metadata": {},
     "output_type": "execute_result"
    },
    {
     "data": {
      "text/plain": "<Figure size 402.75x360 with 1 Axes>",
      "image/png": "[encoded data removed]"
     },
     "metadata": {},
     "output_type": "display_data"
    }
   ],
   "source": [
    "sns.displot(user_info_df, x=\"age\", hue=\"is_male\", kde=True)"
   ]
  },
  {
   "cell_type": "markdown",
   "id": "1ef67eac",
   "metadata": {
    "papermill": {
     "duration": 0.014808,
     "end_time": "2022-06-01T22:33:13.370962",
     "exception": false,
     "start_time": "2022-06-01T22:33:13.356154",
     "status": "completed"
    },
    "tags": []
   },
   "source": [
    "## Logistic Regression Gender prediction"
   ]
  },
  {
   "cell_type": "code",
   "execution_count": 28,
   "id": "58871b61",
   "metadata": {
    "execution": {
     "iopub.execute_input": "2022-06-01T22:33:13.403034Z",
     "iopub.status.busy": "2022-06-01T22:33:13.402441Z",
     "iopub.status.idle": "2022-06-01T22:33:13.406325Z",
     "shell.execute_reply": "2022-06-01T22:33:13.405713Z"
    },
    "papermill": {
     "duration": 0.021988,
     "end_time": "2022-06-01T22:33:13.408012",
     "exception": false,
     "start_time": "2022-06-01T22:33:13.386024",
     "status": "completed"
    },
    "tags": []
   },
   "outputs": [],
   "source": [
    "X_train = U\n",
    "y_train = user_info_df['is_male']"
   ]
  },
  {
   "cell_type": "code",
   "execution_count": 29,
   "id": "25586000",
   "metadata": {
    "execution": {
     "iopub.execute_input": "2022-06-01T22:33:13.440121Z",
     "iopub.status.busy": "2022-06-01T22:33:13.439442Z",
     "iopub.status.idle": "2022-06-01T22:33:13.522142Z",
     "shell.execute_reply": "2022-06-01T22:33:13.521328Z"
    },
    "papermill": {
     "duration": 0.101128,
     "end_time": "2022-06-01T22:33:13.524252",
     "exception": false,
     "start_time": "2022-06-01T22:33:13.423124",
     "status": "completed"
    },
    "tags": []
   },
   "outputs": [],
   "source": [
    "clf = LogisticRegression(random_state=0, penalty='l2',solver='sag').fit(X_train, y_train)"
   ]
  },
  {
   "cell_type": "code",
   "execution_count": 30,
   "id": "b5550cf3",
   "metadata": {
    "execution": {
     "iopub.execute_input": "2022-06-01T22:33:13.557613Z",
     "iopub.status.busy": "2022-06-01T22:33:13.556996Z",
     "iopub.status.idle": "2022-06-01T22:33:13.565620Z",
     "shell.execute_reply": "2022-06-01T22:33:13.564489Z"
    },
    "papermill": {
     "duration": 0.028583,
     "end_time": "2022-06-01T22:33:13.569020",
     "exception": false,
     "start_time": "2022-06-01T22:33:13.540437",
     "status": "completed"
    },
    "tags": []
   },
   "outputs": [
    {
     "name": "stdout",
     "output_type": "stream",
     "text": [
      "Logistic Regression Accuracy  0.7104984093319194\n"
     ]
    }
   ],
   "source": [
    "accuracy = clf.score(X_train,y_train)\n",
    "print(\"Logistic Regression Accuracy \",accuracy)\n"
   ]
  },
  {
   "cell_type": "code",
   "execution_count": 31,
   "id": "6f9f5029",
   "metadata": {
    "execution": {
     "iopub.execute_input": "2022-06-01T22:33:13.633383Z",
     "iopub.status.busy": "2022-06-01T22:33:13.632812Z",
     "iopub.status.idle": "2022-06-01T22:33:13.648390Z",
     "shell.execute_reply": "2022-06-01T22:33:13.647159Z"
    },
    "papermill": {
     "duration": 0.051338,
     "end_time": "2022-06-01T22:33:13.651839",
     "exception": false,
     "start_time": "2022-06-01T22:33:13.600501",
     "status": "completed"
    },
    "tags": []
   },
   "outputs": [
    {
     "name": "stdout",
     "output_type": "stream",
     "text": [
      "Logistic Regression F1 score  0.8307501549907006\n"
     ]
    }
   ],
   "source": [
    "logistic_f1 = f1_score(y_train,clf.predict(X_train))\n",
    "print(\"Logistic Regression F1 score \",logistic_f1)"
   ]
  },
  {
   "cell_type": "code",
   "execution_count": 32,
   "id": "bb7a2346",
   "metadata": {
    "execution": {
     "iopub.execute_input": "2022-06-01T22:33:13.716796Z",
     "iopub.status.busy": "2022-06-01T22:33:13.716209Z",
     "iopub.status.idle": "2022-06-01T22:33:13.973634Z",
     "shell.execute_reply": "2022-06-01T22:33:13.972526Z"
    },
    "papermill": {
     "duration": 0.292069,
     "end_time": "2022-06-01T22:33:13.975947",
     "exception": false,
     "start_time": "2022-06-01T22:33:13.683878",
     "status": "completed"
    },
    "tags": []
   },
   "outputs": [
    {
     "data": {
      "text/plain": "<Figure size 432x288 with 2 Axes>",
      "image/png": "[encoded data removed]"
     },
     "metadata": {},
     "output_type": "display_data"
    }
   ],
   "source": [
    "y_train_pred = clf.predict(X_train)\n",
    "cm= confusion_matrix(  y_train,y_train_pred) \n",
    "ax = sns.heatmap(cm, annot=True, cmap='Blues',fmt=\"d\")\n",
    "ax.set_title('Confusion Matrix with\\n\\n');\n",
    "ax.set_xlabel('\\nPredicted Values')\n",
    "ax.set_ylabel('Actual Values ');\n",
    "ax.xaxis.set_ticklabels(['0','1'])\n",
    "ax.yaxis.set_ticklabels(['0','1'])\n",
    "## Display the visualization of the Confusion Matrix.\n",
    "plt.show()"
   ]
  },
  {
   "cell_type": "markdown",
   "id": "491d4ab5",
   "metadata": {
    "papermill": {
     "duration": 0.015555,
     "end_time": "2022-06-01T22:33:14.007897",
     "exception": false,
     "start_time": "2022-06-01T22:33:13.992342",
     "status": "completed"
    },
    "tags": []
   },
   "source": [
    "## Decision Tree Classfier Gender prediction"
   ]
  },
  {
   "cell_type": "code",
   "execution_count": 33,
   "id": "59ce4a2d",
   "metadata": {
    "execution": {
     "iopub.execute_input": "2022-06-01T22:33:14.042236Z",
     "iopub.status.busy": "2022-06-01T22:33:14.041165Z",
     "iopub.status.idle": "2022-06-01T22:33:15.154802Z",
     "shell.execute_reply": "2022-06-01T22:33:15.153851Z"
    },
    "papermill": {
     "duration": 1.133082,
     "end_time": "2022-06-01T22:33:15.156899",
     "exception": false,
     "start_time": "2022-06-01T22:33:14.023817",
     "status": "completed"
    },
    "tags": []
   },
   "outputs": [
    {
     "data": {
      "text/plain": "RandomForestClassifier(random_state=0)"
     },
     "execution_count": 33,
     "metadata": {},
     "output_type": "execute_result"
    }
   ],
   "source": [
    "rf = RandomForestClassifier(random_state=0)\n",
    "rf.fit(X_train,y_train)"
   ]
  },
  {
   "cell_type": "code",
   "execution_count": 34,
   "id": "90a337f3",
   "metadata": {
    "execution": {
     "iopub.execute_input": "2022-06-01T22:33:15.189912Z",
     "iopub.status.busy": "2022-06-01T22:33:15.189535Z",
     "iopub.status.idle": "2022-06-01T22:33:15.223892Z",
     "shell.execute_reply": "2022-06-01T22:33:15.222914Z"
    },
    "papermill": {
     "duration": 0.053459,
     "end_time": "2022-06-01T22:33:15.226118",
     "exception": false,
     "start_time": "2022-06-01T22:33:15.172659",
     "status": "completed"
    },
    "tags": []
   },
   "outputs": [
    {
     "name": "stdout",
     "output_type": "stream",
     "text": [
      "Accuracy for Random Forest classfier  1.0\n"
     ]
    }
   ],
   "source": [
    "accuracy = rf.score(X_train,y_train)\n",
    "print(\"Accuracy for Random Forest classfier \", accuracy)"
   ]
  },
  {
   "cell_type": "code",
   "execution_count": 35,
   "id": "4697074e",
   "metadata": {
    "execution": {
     "iopub.execute_input": "2022-06-01T22:33:15.259299Z",
     "iopub.status.busy": "2022-06-01T22:33:15.258922Z",
     "iopub.status.idle": "2022-06-01T22:33:15.505067Z",
     "shell.execute_reply": "2022-06-01T22:33:15.504028Z"
    },
    "papermill": {
     "duration": 0.265159,
     "end_time": "2022-06-01T22:33:15.507166",
     "exception": false,
     "start_time": "2022-06-01T22:33:15.242007",
     "status": "completed"
    },
    "tags": []
   },
   "outputs": [
    {
     "name": "stdout",
     "output_type": "stream",
     "text": [
      "[[273   0]\n",
      " [  0 670]]\n"
     ]
    },
    {
     "data": {
      "text/plain": "<Figure size 432x288 with 2 Axes>",
      "image/png": "[encoded data removed]"
     },
     "metadata": {},
     "output_type": "display_data"
    }
   ],
   "source": [
    "y_train_pred = rf.predict(X_train)\n",
    "cm= confusion_matrix(  y_train,y_train_pred) \n",
    "print(cm)\n",
    "ax = sns.heatmap(cm, annot=True, cmap='Blues',fmt=\"d\")\n",
    "ax.set_title('Confusion Matrix with\\n\\n');\n",
    "ax.set_xlabel('\\nPredicted Values')\n",
    "ax.set_ylabel('Actual Values ');\n",
    "ax.xaxis.set_ticklabels(['0','1'])\n",
    "ax.yaxis.set_ticklabels(['0','1'])\n",
    "## Display the visualization of the Confusion Matrix.\n",
    "plt.show()"
   ]
  },
  {
   "cell_type": "markdown",
   "id": "f5b22409",
   "metadata": {
    "papermill": {
     "duration": 0.016028,
     "end_time": "2022-06-01T22:33:15.539298",
     "exception": false,
     "start_time": "2022-06-01T22:33:15.523270",
     "status": "completed"
    },
    "tags": []
   },
   "source": [
    "### Observation\n",
    "* Logistic Regression Accuracy 0.71 and F1 score 0.83\n",
    "* For Logistic Regression There are **Zero True Negative (TN)** and **Zero False Negative (FN)** \n",
    "* Random Forest classfier gives 100 percent accuracy\n",
    "* There are **Zero False Negative (FN)** and **Zero False Positive(FP)**.\n",
    "\n",
    "\n"
   ]
  }
 ],
 "metadata": {
  "kernelspec": {
   "display_name": "Python 3",
   "language": "python",
   "name": "python3"
  },
  "language_info": {
   "codemirror_mode": {
    "name": "ipython",
    "version": 3
   },
   "file_extension": ".py",
   "mimetype": "text/x-python",
   "name": "python",
   "nbconvert_exporter": "python",
   "pygments_lexer": "ipython3",
   "version": "3.7.12"
  },
  "papermill": {
   "default_parameters": {},
   "duration": 101.315745,
   "end_time": "2022-06-01T22:33:16.277657",
   "environment_variables": {},
   "exception": null,
   "input_path": "__notebook__.ipynb",
   "output_path": "__notebook__.ipynb",
   "parameters": {},
   "start_time": "2022-06-01T22:31:34.961912",
   "version": "2.3.4"
  }
 },
 "nbformat": 4,
 "nbformat_minor": 5
}