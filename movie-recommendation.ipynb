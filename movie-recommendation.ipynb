{
 "cells": [
  {
   "cell_type": "markdown",
   "id": "177cd1fe",
   "metadata": {
    "papermill": {
     "duration": 0.022852,
     "end_time": "2022-06-01T22:16:21.433717",
     "exception": false,
     "start_time": "2022-06-01T22:16:21.410865",
     "status": "completed"
    },
    "tags": []
   },
   "source": [
    "## Movie Recommendation\n",
    "\n",
    "\n"
   ]
  },
  {
   "cell_type": "markdown",
   "id": "9cbe3e65",
   "metadata": {
    "papermill": {
     "duration": 0.024274,
     "end_time": "2022-06-01T22:16:21.494157",
     "exception": false,
     "start_time": "2022-06-01T22:16:21.469883",
     "status": "completed"
    },
    "tags": []
   },
   "source": [
    "* use SGD algorithm to predict the rating given User Id, and Movie Id.\n",
    "\n",
    "* Predicted rating $\\hat{y}_{ij}$ for user i, movie j pair is calcuated as $\\hat{y}_{ij} = \\mu + b_i + c_j + u_i^T v_j$ , here we will be finding the best values of $b_{i}$ and $c_{j}$ using SGD algorithm with the optimization problem for N users and M movies is defined as\n",
    "\n",
    "* $$\n",
    "L = \\min_{ b, c, \\{ u_i \\}_{i=1}^N, \\{ v_j \\}_{j=1}^M}\n",
    "\\quad\n",
    "\\alpha \\Big(\n",
    "    \\sum_{j} \\sum_{k} v_{jk}^2 \n",
    "    + \\sum_{i} \\sum_{k} u_{ik}^2 \n",
    "    + \\sum_{i} b_i^2\n",
    "    + \\sum_{j} c_i^2\n",
    "    \\Big)\n",
    "+ \\sum_{i,j \\in \\mathcal{I}^{\\text{train}}}\n",
    "    (y_{ij} - \\mu - b_i - c_j - u_i^T v_j)^2\n",
    "$$\n",
    "\n",
    "<ul>\n",
    "<li><span class=\"math\">$\\(\\mu\\)$</span> : scalar mean rating</li>\n",
    "<li><span class=\"math\">$\\(b_i\\)$</span> : scalar bias term for user <span class=\"math\">\\(i\\)</span></li>\n",
    "<li><span class=\"math\">$\\(c_j\\)$</span> : scalar bias term for movie <span class=\"math\">\\(j\\)</span></li>\n",
    "<li><span class=\"math\">$\\(u_i\\)$</span> : K-dimensional vector for user <span class=\"math\">\\(i\\)</span></li>\n",
    "<li><span class=\"math\">$\\(v_j\\)$</span> : K-dimensional vector for movie <span class=\"math\">\\(j\\)</span></li>\n",
    "</ul>"
   ]
  },
  {
   "cell_type": "markdown",
   "id": "dacba56f",
   "metadata": {
    "papermill": {
     "duration": 0.024221,
     "end_time": "2022-06-01T22:16:21.552691",
     "exception": false,
     "start_time": "2022-06-01T22:16:21.528470",
     "status": "completed"
    },
    "tags": []
   },
   "source": [
    "## Load Library"
   ]
  },
  {
   "cell_type": "code",
   "execution_count": 1,
   "id": "5eb936b5",
   "metadata": {
    "execution": {
     "iopub.execute_input": "2022-06-01T22:16:21.651118Z",
     "iopub.status.busy": "2022-06-01T22:16:21.650671Z",
     "iopub.status.idle": "2022-06-01T22:16:28.558240Z",
     "shell.execute_reply": "2022-06-01T22:16:28.552646Z"
    },
    "papermill": {
     "duration": 6.973218,
     "end_time": "2022-06-01T22:16:28.566975",
     "exception": false,
     "start_time": "2022-06-01T22:16:21.593757",
     "status": "completed"
    },
    "tags": []
   },
   "outputs": [],
   "source": [
    "import numpy as np\n",
    "import pandas as pd\n",
    "from scipy.sparse import csr_matrix\n",
    "from sklearn.utils.extmath import randomized_svd\n",
    "from sklearn.utils.extmath import randomized_svd\n",
    "from sklearn.metrics import mean_squared_error\n",
    "from sklearn.linear_model import LogisticRegression\n",
    "from tqdm import tqdm\n",
    "import seaborn as sns, numpy as np\n",
    "from sklearn.metrics import confusion_matrix, f1_score\n",
    "from sklearn.ensemble import RandomForestClassifier"
   ]
  },
  {
   "cell_type": "markdown",
   "id": "338291b7",
   "metadata": {
    "papermill": {
     "duration": 0.020461,
     "end_time": "2022-06-01T22:16:28.607701",
     "exception": false,
     "start_time": "2022-06-01T22:16:28.587240",
     "status": "completed"
    },
    "tags": []
   },
   "source": [
    "# Load Dataset"
   ]
  },
  {
   "cell_type": "code",
   "execution_count": 2,
   "id": "bad29ae4",
   "metadata": {
    "execution": {
     "iopub.execute_input": "2022-06-01T22:16:28.663381Z",
     "iopub.status.busy": "2022-06-01T22:16:28.662401Z",
     "iopub.status.idle": "2022-06-01T22:16:28.910947Z",
     "shell.execute_reply": "2022-06-01T22:16:28.909494Z"
    },
    "papermill": {
     "duration": 0.285459,
     "end_time": "2022-06-01T22:16:28.915141",
     "exception": false,
     "start_time": "2022-06-01T22:16:28.629682",
     "status": "completed"
    },
    "tags": []
   },
   "outputs": [
    {
     "name": "stdout",
     "output_type": "stream",
     "text": [
      "Number of unique users  943\n",
      "Number of unique movies  1662\n"
     ]
    },
    {
     "data": {
      "text/html": [
       "<div>\n",
       "<style scoped>\n",
       "    .dataframe tbody tr th:only-of-type {\n",
       "        vertical-align: middle;\n",
       "    }\n",
       "\n",
       "    .dataframe tbody tr th {\n",
       "        vertical-align: top;\n",
       "    }\n",
       "\n",
       "    .dataframe thead th {\n",
       "        text-align: right;\n",
       "    }\n",
       "</style>\n",
       "<table border=\"1\" class=\"dataframe\">\n",
       "  <thead>\n",
       "    <tr style=\"text-align: right;\">\n",
       "      <th></th>\n",
       "      <th>user_id</th>\n",
       "      <th>item_id</th>\n",
       "      <th>rating</th>\n",
       "    </tr>\n",
       "  </thead>\n",
       "  <tbody>\n",
       "    <tr>\n",
       "      <th>0</th>\n",
       "      <td>772</td>\n",
       "      <td>36</td>\n",
       "      <td>3</td>\n",
       "    </tr>\n",
       "    <tr>\n",
       "      <th>1</th>\n",
       "      <td>471</td>\n",
       "      <td>228</td>\n",
       "      <td>5</td>\n",
       "    </tr>\n",
       "    <tr>\n",
       "      <th>2</th>\n",
       "      <td>641</td>\n",
       "      <td>401</td>\n",
       "      <td>4</td>\n",
       "    </tr>\n",
       "    <tr>\n",
       "      <th>3</th>\n",
       "      <td>312</td>\n",
       "      <td>98</td>\n",
       "      <td>4</td>\n",
       "    </tr>\n",
       "    <tr>\n",
       "      <th>4</th>\n",
       "      <td>58</td>\n",
       "      <td>504</td>\n",
       "      <td>5</td>\n",
       "    </tr>\n",
       "  </tbody>\n",
       "</table>\n",
       "</div>"
      ],
      "text/plain": [
       "   user_id  item_id  rating\n",
       "0      772       36       3\n",
       "1      471      228       5\n",
       "2      641      401       4\n",
       "3      312       98       4\n",
       "4       58      504       5"
      ]
     },
     "execution_count": 2,
     "metadata": {},
     "output_type": "execute_result"
    }
   ],
   "source": [
    "ratings_df = pd.read_csv('../input/movie-rating-recommendation/ratings_train.csv')\n",
    "\n",
    "unique_users = len(ratings_df['user_id'].value_counts())\n",
    "print(\"Number of unique users \", unique_users)\n",
    "\n",
    "unique_movies = len(ratings_df['item_id'].value_counts())\n",
    "print(\"Number of unique movies \", unique_movies)\n",
    "ratings_df.head()"
   ]
  },
  {
   "cell_type": "markdown",
   "id": "336b8c13",
   "metadata": {
    "papermill": {
     "duration": 0.022293,
     "end_time": "2022-06-01T22:16:28.955176",
     "exception": false,
     "start_time": "2022-06-01T22:16:28.932883",
     "status": "completed"
    },
    "tags": []
   },
   "source": [
    "## Formulate as a Graph Problem\n",
    "\n",
    "* We can construct a **weighted undirect graph** from a given pair of user and movie, and weight will be rating given to movie by user.\n",
    "* we can construct this matrix like $A[i][j]=r_{ij}$ here $i$ is user_id, $j$ is movie_id and $r_{ij}$ is rating given by user $i$ to the movie $j$"
   ]
  },
  {
   "cell_type": "markdown",
   "id": "319f365c",
   "metadata": {
    "papermill": {
     "duration": 0.034898,
     "end_time": "2022-06-01T22:16:29.009130",
     "exception": false,
     "start_time": "2022-06-01T22:16:28.974232",
     "status": "completed"
    },
    "tags": []
   },
   "source": [
    "### Adjancency matrix representaiton of User Movie Rating data"
   ]
  },
  {
   "cell_type": "code",
   "execution_count": 3,
   "id": "51bc4036",
   "metadata": {
    "execution": {
     "iopub.execute_input": "2022-06-01T22:16:29.079656Z",
     "iopub.status.busy": "2022-06-01T22:16:29.079096Z",
     "iopub.status.idle": "2022-06-01T22:16:29.131496Z",
     "shell.execute_reply": "2022-06-01T22:16:29.130853Z"
    },
    "papermill": {
     "duration": 0.093271,
     "end_time": "2022-06-01T22:16:29.139995",
     "exception": false,
     "start_time": "2022-06-01T22:16:29.046724",
     "status": "completed"
    },
    "tags": []
   },
   "outputs": [],
   "source": [
    "\n",
    "\n",
    "def get_rating_matrix(df, rowptr='user_id',colptr='item_id', y='rating'):\n",
    "    '''In this function, we will compute sparse matrix representation of user movie and ratings'''\n",
    "    \n",
    "    csr = csr_matrix((df[y], (df[rowptr],df[colptr])))\n",
    "    return csr\n",
    "    \n",
    "    \n",
    "# Adjancey matrix representation\n",
    "user_movie_matrix = get_rating_matrix(ratings_df)"
   ]
  },
  {
   "cell_type": "code",
   "execution_count": 4,
   "id": "2101ccdd",
   "metadata": {
    "execution": {
     "iopub.execute_input": "2022-06-01T22:16:29.192017Z",
     "iopub.status.busy": "2022-06-01T22:16:29.191543Z",
     "iopub.status.idle": "2022-06-01T22:16:29.198555Z",
     "shell.execute_reply": "2022-06-01T22:16:29.197522Z"
    },
    "papermill": {
     "duration": 0.046056,
     "end_time": "2022-06-01T22:16:29.213709",
     "exception": false,
     "start_time": "2022-06-01T22:16:29.167653",
     "status": "completed"
    },
    "tags": []
   },
   "outputs": [
    {
     "data": {
      "text/plain": [
       "True"
      ]
     },
     "execution_count": 4,
     "metadata": {},
     "output_type": "execute_result"
    }
   ],
   "source": [
    "def grader_matrix(matrix):\n",
    "  assert(matrix.shape==(943,1681))\n",
    "  return True\n",
    "grader_matrix(user_movie_matrix)"
   ]
  },
  {
   "cell_type": "markdown",
   "id": "9b978ad3",
   "metadata": {
    "papermill": {
     "duration": 0.029741,
     "end_time": "2022-06-01T22:16:29.267325",
     "exception": false,
     "start_time": "2022-06-01T22:16:29.237584",
     "status": "completed"
    },
    "tags": []
   },
   "source": [
    "## Implicit User Feautures and Movie Features using Matrix Factorization\n",
    "\n",
    "We will Apply SVD decomposition on the Adjaceny matrix  $A$ and get three matrices $U, \\sum, V$ such that $U \\times \\sum \\times V^T = A$, <br> \n",
    "if $A$ is of dimensions $N \\times M$ then <br>\n",
    "$U$ is of $N \\times k$, <br>\n",
    "$\\sum$ is of $k \\times k$ and <br>\n",
    "$V$ is $M \\times k$ dimensions. <br>\n",
    "\n",
    "   * Matrix $U$ can be represented as matrix **representation of users**, where each row $u_{i}$ represents a **k-dimensional vector for a user**\n",
    "\n",
    "   * Matrix $V$ can be represented as matrix **representation of movies**, where each row $v_{j}$ represents a **k-dimensional vector for a movie.**\n"
   ]
  },
  {
   "cell_type": "code",
   "execution_count": 5,
   "id": "8187c6a1",
   "metadata": {
    "execution": {
     "iopub.execute_input": "2022-06-01T22:16:29.350557Z",
     "iopub.status.busy": "2022-06-01T22:16:29.349950Z",
     "iopub.status.idle": "2022-06-01T22:16:33.879966Z",
     "shell.execute_reply": "2022-06-01T22:16:33.878207Z"
    },
    "papermill": {
     "duration": 4.581894,
     "end_time": "2022-06-01T22:16:33.883749",
     "exception": false,
     "start_time": "2022-06-01T22:16:29.301855",
     "status": "completed"
    },
    "tags": []
   },
   "outputs": [
    {
     "name": "stdout",
     "output_type": "stream",
     "text": [
      "User Matrix shape (943, 500)\n",
      "Diagonal Matrix shape (500,)\n",
      "Movie Matrix shape (1681, 500)\n"
     ]
    }
   ],
   "source": [
    "\n",
    "U, Sigma, VT = randomized_svd(user_movie_matrix, n_components=500,n_iter=5, random_state=1024)\n",
    "print(\"User Matrix shape\",U.shape)\n",
    "print(\"Diagonal Matrix shape\",Sigma.shape)\n",
    "print(\"Movie Matrix shape\",VT.T.shape)"
   ]
  },
  {
   "cell_type": "markdown",
   "id": "6a49c68d",
   "metadata": {
    "papermill": {
     "duration": 0.058878,
     "end_time": "2022-06-01T22:16:33.984419",
     "exception": false,
     "start_time": "2022-06-01T22:16:33.925541",
     "status": "completed"
    },
    "tags": []
   },
   "source": [
    "* Each **row of matrix $U$** can be said as **100 dimensional embedding of users** given user_movie pairs\n",
    "* Each **row of matrix $VT$** can be said as **100 dimensional embedding of Movies** given user_movie pairs"
   ]
  },
  {
   "cell_type": "markdown",
   "id": "038e584e",
   "metadata": {
    "papermill": {
     "duration": 0.030022,
     "end_time": "2022-06-01T22:16:34.050277",
     "exception": false,
     "start_time": "2022-06-01T22:16:34.020255",
     "status": "completed"
    },
    "tags": []
   },
   "source": [
    "### Mean User Rating"
   ]
  },
  {
   "cell_type": "code",
   "execution_count": 6,
   "id": "6bbf7bfe",
   "metadata": {
    "execution": {
     "iopub.execute_input": "2022-06-01T22:16:34.129665Z",
     "iopub.status.busy": "2022-06-01T22:16:34.129267Z",
     "iopub.status.idle": "2022-06-01T22:16:34.152410Z",
     "shell.execute_reply": "2022-06-01T22:16:34.151507Z"
    },
    "papermill": {
     "duration": 0.078985,
     "end_time": "2022-06-01T22:16:34.168911",
     "exception": false,
     "start_time": "2022-06-01T22:16:34.089926",
     "status": "completed"
    },
    "tags": []
   },
   "outputs": [
    {
     "name": "stdout",
     "output_type": "stream",
     "text": [
      "Mean user rating across dataset for all movies 3.529480398257623\n"
     ]
    }
   ],
   "source": [
    "def m_u(ratings):\n",
    "    '''In this function, we will compute mean for all the ratings'''\n",
    "    mu = ratings.mean()\n",
    "    return mu\n",
    "\n",
    "mu_user = m_u(ratings_df['rating'])\n",
    "print(\"Mean user rating across dataset for all movies\", mu_user)"
   ]
  },
  {
   "cell_type": "code",
   "execution_count": 7,
   "id": "06db3a0a",
   "metadata": {
    "execution": {
     "iopub.execute_input": "2022-06-01T22:16:34.292619Z",
     "iopub.status.busy": "2022-06-01T22:16:34.292118Z",
     "iopub.status.idle": "2022-06-01T22:16:34.330818Z",
     "shell.execute_reply": "2022-06-01T22:16:34.330004Z"
    },
    "papermill": {
     "duration": 0.098634,
     "end_time": "2022-06-01T22:16:34.333294",
     "exception": false,
     "start_time": "2022-06-01T22:16:34.234660",
     "status": "completed"
    },
    "tags": []
   },
   "outputs": [
    {
     "data": {
      "text/plain": [
       "True"
      ]
     },
     "execution_count": 7,
     "metadata": {},
     "output_type": "execute_result"
    }
   ],
   "source": [
    "def grader_mean(mu):\n",
    "  assert(np.round(mu,3)==3.529)\n",
    "  return True\n",
    "mean_user_movie_rating=m_u(ratings_df['rating'])\n",
    "grader_mean(mean_user_movie_rating)"
   ]
  },
  {
   "cell_type": "code",
   "execution_count": 8,
   "id": "1f771921",
   "metadata": {
    "execution": {
     "iopub.execute_input": "2022-06-01T22:16:34.432873Z",
     "iopub.status.busy": "2022-06-01T22:16:34.432463Z",
     "iopub.status.idle": "2022-06-01T22:16:34.448752Z",
     "shell.execute_reply": "2022-06-01T22:16:34.448070Z"
    },
    "papermill": {
     "duration": 0.056856,
     "end_time": "2022-06-01T22:16:34.451328",
     "exception": false,
     "start_time": "2022-06-01T22:16:34.394472",
     "status": "completed"
    },
    "tags": []
   },
   "outputs": [],
   "source": [
    "def initialize(dim):\n",
    "    '''In this function, we will initialize bias value 'B' and 'C'.'''\n",
    "    # initalize the value to zeros \n",
    "    # return output as a list of zeros \n",
    "    \n",
    "    return list(np.zeros(dim, dtype=int))\n",
    "    \n",
    "\n",
    "\n",
    "\n",
    "     "
   ]
  },
  {
   "cell_type": "code",
   "execution_count": 9,
   "id": "e43c0fad",
   "metadata": {
    "execution": {
     "iopub.execute_input": "2022-06-01T22:16:34.546479Z",
     "iopub.status.busy": "2022-06-01T22:16:34.544722Z",
     "iopub.status.idle": "2022-06-01T22:16:34.590393Z",
     "shell.execute_reply": "2022-06-01T22:16:34.567820Z"
    },
    "papermill": {
     "duration": 0.101599,
     "end_time": "2022-06-01T22:16:34.594536",
     "exception": false,
     "start_time": "2022-06-01T22:16:34.492937",
     "status": "completed"
    },
    "tags": []
   },
   "outputs": [
    {
     "data": {
      "text/plain": [
       "True"
      ]
     },
     "execution_count": 9,
     "metadata": {},
     "output_type": "execute_result"
    }
   ],
   "source": [
    "def grader_dim(b_i,c_j):\n",
    "    assert(len(b_i)==943 and np.sum(b_i)==0)\n",
    "    assert(len(c_j)==1681 and np.sum(c_j)==0)\n",
    "    return True\n",
    "\n",
    "    \n",
    "b_i = initialize(user_movie_matrix.shape[0])\n",
    "c_j = initialize(user_movie_matrix.shape[1])\n",
    "grader_dim(b_i,c_j)"
   ]
  },
  {
   "cell_type": "markdown",
   "id": "6f9323ad",
   "metadata": {
    "papermill": {
     "duration": 0.061564,
     "end_time": "2022-06-01T22:16:34.713969",
     "exception": false,
     "start_time": "2022-06-01T22:16:34.652405",
     "status": "completed"
    },
    "tags": []
   },
   "source": [
    "### Dertivative of Loss Function "
   ]
  },
  {
   "cell_type": "markdown",
   "id": "4deeb51c",
   "metadata": {
    "papermill": {
     "duration": 0.030809,
     "end_time": "2022-06-01T22:16:34.779947",
     "exception": false,
     "start_time": "2022-06-01T22:16:34.749138",
     "status": "completed"
    },
    "tags": []
   },
   "source": [
    "\n",
    "\n",
    " $$\n",
    "dL/db_i = \n",
    "\\alpha *2 * b_i\n",
    "+ \\Big(-2*\\sum_{i,j \\in \\mathcal{I}^{\\text{train}}}\n",
    "    (y_{ij} - \\mu - b_i - c_j - u_i^T v_j)\\Big)\n",
    "$$\n",
    "\n",
    "\n",
    " $$\n",
    "dL/dc_j = \n",
    "\\alpha *2 * c_j\n",
    "+ \\Big(-2 *\\sum_{i,j \\in \\mathcal{I}^{\\text{train}}}\n",
    "    (y_{ij} - \\mu - b_i - c_j - u_i^T v_j)\\Big)\n",
    "$$\n",
    "\n",
    "\n"
   ]
  },
  {
   "cell_type": "code",
   "execution_count": 10,
   "id": "35ce7ddb",
   "metadata": {
    "execution": {
     "iopub.execute_input": "2022-06-01T22:16:34.852085Z",
     "iopub.status.busy": "2022-06-01T22:16:34.851324Z",
     "iopub.status.idle": "2022-06-01T22:16:34.873928Z",
     "shell.execute_reply": "2022-06-01T22:16:34.873162Z"
    },
    "papermill": {
     "duration": 0.074538,
     "end_time": "2022-06-01T22:16:34.887869",
     "exception": false,
     "start_time": "2022-06-01T22:16:34.813331",
     "status": "completed"
    },
    "tags": []
   },
   "outputs": [],
   "source": [
    "def derivative_db(user_id,item_id,rating,U,V,mu,alpha):\n",
    "    '''In this function, we will compute dL/db_i'''\n",
    "#     reg_term = 2 * alpha * b_i[user_id]\n",
    "#     loss_term = -2* ( rating- mu - b_i[user_id] - c_j[item_id] -  np.dot(U[user_id], V.T[item_id]) )\n",
    "    return  (2*alpha*(b_i[user_id])) - 2*(rating - mu - b_i[user_id] - c_j[item_id] - ((U[user_id,:].T).dot(V[:,item_id])))\n",
    "    \n",
    "#     return reg_term + loss_term\n",
    "    \n",
    "    "
   ]
  },
  {
   "cell_type": "code",
   "execution_count": 11,
   "id": "ab6a975d",
   "metadata": {
    "execution": {
     "iopub.execute_input": "2022-06-01T22:16:34.954004Z",
     "iopub.status.busy": "2022-06-01T22:16:34.953412Z",
     "iopub.status.idle": "2022-06-01T22:16:35.052918Z",
     "shell.execute_reply": "2022-06-01T22:16:35.052279Z"
    },
    "papermill": {
     "duration": 0.181209,
     "end_time": "2022-06-01T22:16:35.094903",
     "exception": false,
     "start_time": "2022-06-01T22:16:34.913694",
     "status": "completed"
    },
    "tags": []
   },
   "outputs": [
    {
     "data": {
      "text/plain": [
       "True"
      ]
     },
     "execution_count": 11,
     "metadata": {},
     "output_type": "execute_result"
    }
   ],
   "source": [
    "def grader_db(value):\n",
    "    assert(np.round(value,3)==-0.931)\n",
    "    return True\n",
    "U1, Sigma, V1 = randomized_svd(user_movie_matrix, n_components=2,n_iter=5, random_state=24)\n",
    "\n",
    "# Please don't change random state\n",
    "# Here we are considering n_componets = 2 for our convinence\n",
    "alpha=0.01 \n",
    "value=derivative_db(312,98,4,U1,V1,mu_user,alpha)\n",
    "\n",
    "grader_db(value)"
   ]
  },
  {
   "cell_type": "code",
   "execution_count": 12,
   "id": "daf89042",
   "metadata": {
    "execution": {
     "iopub.execute_input": "2022-06-01T22:16:35.217598Z",
     "iopub.status.busy": "2022-06-01T22:16:35.217202Z",
     "iopub.status.idle": "2022-06-01T22:16:35.236650Z",
     "shell.execute_reply": "2022-06-01T22:16:35.224064Z"
    },
    "papermill": {
     "duration": 0.062671,
     "end_time": "2022-06-01T22:16:35.240454",
     "exception": false,
     "start_time": "2022-06-01T22:16:35.177783",
     "status": "completed"
    },
    "tags": []
   },
   "outputs": [],
   "source": [
    "def derivative_dc(user_id,item_id,rating,U,V,mu):\n",
    "    '''In this function, we will compute dL/dc_j'''\n",
    "#     reg_term = 2 * alpha * c_j[item_id]\n",
    "#     loss_term = -2* ( rating- mu - b_i[user_id] - c_j[item_id] -  np.dot(U[user_id], V.T[item_id]) )\n",
    "#     return reg_term + loss_term \n",
    "    return (2*alpha*(c_j[item_id])) - 2*(rating - mu - b_i[user_id] - c_j[item_id] - ((U[user_id,:].T).dot(V[:,item_id])))\n"
   ]
  },
  {
   "cell_type": "code",
   "execution_count": 13,
   "id": "83b84fe0",
   "metadata": {
    "execution": {
     "iopub.execute_input": "2022-06-01T22:16:35.324658Z",
     "iopub.status.busy": "2022-06-01T22:16:35.324060Z",
     "iopub.status.idle": "2022-06-01T22:16:35.442257Z",
     "shell.execute_reply": "2022-06-01T22:16:35.441493Z"
    },
    "papermill": {
     "duration": 0.162219,
     "end_time": "2022-06-01T22:16:35.444358",
     "exception": false,
     "start_time": "2022-06-01T22:16:35.282139",
     "status": "completed"
    },
    "tags": []
   },
   "outputs": [
    {
     "data": {
      "text/plain": [
       "True"
      ]
     },
     "execution_count": 13,
     "metadata": {},
     "output_type": "execute_result"
    }
   ],
   "source": [
    "def grader_dc(value):\n",
    "    assert(np.round(value,3)==-2.929)\n",
    "    return True\n",
    "U1, Sigma, V1 = randomized_svd(user_movie_matrix, n_components=2,n_iter=5, random_state=24)\n",
    "# Please don't change random state\n",
    "# Here we are considering n_componets = 2 for our convinence\n",
    "alpha=0.01 \n",
    "value=derivative_dc(58,504,5,U1,V1,mu_user)\n",
    "grader_dc(value)"
   ]
  },
  {
   "cell_type": "markdown",
   "id": "48e818d0",
   "metadata": {
    "papermill": {
     "duration": 0.047413,
     "end_time": "2022-06-01T22:16:35.564524",
     "exception": false,
     "start_time": "2022-06-01T22:16:35.517111",
     "status": "completed"
    },
    "tags": []
   },
   "source": [
    "## Training Optimizer\n",
    "\n",
    "<pre>\n",
    "for each epoch:\n",
    "    for each pair of (user, movie):\n",
    "        b_i =  b_i - learning_rate * dL/db_i\n",
    "        c_j =  c_j - learning_rate * dL/dc_j\n",
    "predict the ratings with formula\n",
    "</pre>\n",
    "$\\hat{y}_{ij} = \\mu + b_i + c_j + \\text{dot_product}(u_i , v_j) $\n",
    "\n"
   ]
  },
  {
   "cell_type": "code",
   "execution_count": 14,
   "id": "48d9dce7",
   "metadata": {
    "execution": {
     "iopub.execute_input": "2022-06-01T22:16:35.602100Z",
     "iopub.status.busy": "2022-06-01T22:16:35.601687Z",
     "iopub.status.idle": "2022-06-01T22:16:35.622275Z",
     "shell.execute_reply": "2022-06-01T22:16:35.618479Z"
    },
    "papermill": {
     "duration": 0.044362,
     "end_time": "2022-06-01T22:16:35.624597",
     "exception": false,
     "start_time": "2022-06-01T22:16:35.580235",
     "status": "completed"
    },
    "tags": []
   },
   "outputs": [],
   "source": [
    "# hyperparemeters \n",
    "epochs = 100\n",
    "lr = 0.0001\n",
    "alpha = 0.001\n",
    "MSE_list=[]"
   ]
  },
  {
   "cell_type": "code",
   "execution_count": 15,
   "id": "273d59af",
   "metadata": {
    "execution": {
     "iopub.execute_input": "2022-06-01T22:16:35.678808Z",
     "iopub.status.busy": "2022-06-01T22:16:35.677796Z",
     "iopub.status.idle": "2022-06-01T22:19:18.445043Z",
     "shell.execute_reply": "2022-06-01T22:19:18.444168Z"
    },
    "papermill": {
     "duration": 162.78872,
     "end_time": "2022-06-01T22:19:18.447493",
     "exception": false,
     "start_time": "2022-06-01T22:16:35.658773",
     "status": "completed"
    },
    "tags": []
   },
   "outputs": [
    {
     "name": "stderr",
     "output_type": "stream",
     "text": [
      "100%|██████████| 100/100 [02:40<00:00,  1.60s/it]\n"
     ]
    }
   ],
   "source": [
    "\n",
    "# initialize users and movies bias rating\n",
    "b_i = initialize(user_movie_matrix.shape[0])\n",
    "c_j = initialize(user_movie_matrix.shape[1])\n",
    "\n",
    "adjacency_matrix = user_movie_matrix.toarray()\n",
    "\n",
    "## generate Users and Movies features using matrix factorization ( SVD decomposition)\n",
    "U, sigma, V = randomized_svd(adjacency_matrix,n_components=300,n_iter=5,random_state=240)\n",
    "\n",
    "\n",
    "\n",
    "for epoch in tqdm(range(epochs)):\n",
    "    y_preds = []\n",
    "    # iterate over each user movie rating pairs and do gradient descent update\n",
    "    for user, movie, rating in zip(ratings_df['user_id'], ratings_df['item_id'], ratings_df['rating']):\n",
    "        # gradient update for user bias rating\n",
    "        b_i[user] = b_i[user] - (lr * derivative_db(user,movie,rating,U,V,mu_user,alpha))\n",
    "        # gradient update for movie bias rating\n",
    "        c_j[movie] = c_j[movie] - (  lr * derivative_dc(user, movie, rating, U,V, mu_user))\n",
    "        \n",
    "    # get prediction for each epoch\n",
    "    for user, movie, rating in zip(ratings_df['user_id'], ratings_df['item_id'], ratings_df['rating']):\n",
    "        \n",
    "        y_pred = mu_user + b_i[user] + c_j[movie] + np.dot(U[user],V.T[movie])\n",
    "        y_preds.append(y_pred)\n",
    "    \n",
    "    loss = mean_squared_error(ratings_df['rating'],y_preds)\n",
    "    \n",
    "    MSE_list.append(loss)\n",
    "    \n",
    "        "
   ]
  },
  {
   "cell_type": "markdown",
   "id": "d152d23a",
   "metadata": {
    "papermill": {
     "duration": 0.023728,
     "end_time": "2022-06-01T22:19:18.494531",
     "exception": false,
     "start_time": "2022-06-01T22:19:18.470803",
     "status": "completed"
    },
    "tags": []
   },
   "source": [
    "### Plot loss function"
   ]
  },
  {
   "cell_type": "code",
   "execution_count": 16,
   "id": "34e7718d",
   "metadata": {
    "execution": {
     "iopub.execute_input": "2022-06-01T22:19:18.545965Z",
     "iopub.status.busy": "2022-06-01T22:19:18.545491Z",
     "iopub.status.idle": "2022-06-01T22:19:18.771692Z",
     "shell.execute_reply": "2022-06-01T22:19:18.770434Z"
    },
    "papermill": {
     "duration": 0.254372,
     "end_time": "2022-06-01T22:19:18.773725",
     "exception": false,
     "start_time": "2022-06-01T22:19:18.519353",
     "status": "completed"
    },
    "tags": []
   },
   "outputs": [
    {
     "data": {
      "image/png": "[encoded data removed]",
      "text/plain": [
       "<Figure size 432x288 with 1 Axes>"
      ]
     },
     "metadata": {
      "needs_background": "light"
     },
     "output_type": "display_data"
    }
   ],
   "source": [
    "import matplotlib.pyplot as plt\n",
    "\n",
    "plt.plot([i for i in range(epochs)],MSE_list)\n",
    "v=plt.xticks(ticks=list(range(0,epochs,10)))\n",
    "plt.xlabel('Epoch Numers')\n",
    "plt.ylabel('MSE')\n",
    "plt.title('Epoch number vs MSE')\n",
    "plt.show()"
   ]
  },
  {
   "cell_type": "markdown",
   "id": "045887ea",
   "metadata": {
    "papermill": {
     "duration": 0.022796,
     "end_time": "2022-06-01T22:19:18.820074",
     "exception": false,
     "start_time": "2022-06-01T22:19:18.797278",
     "status": "completed"
    },
    "tags": []
   },
   "source": [
    "### Predicting Gender of the user given User Features"
   ]
  },
  {
   "cell_type": "code",
   "execution_count": 17,
   "id": "26abce72",
   "metadata": {
    "execution": {
     "iopub.execute_input": "2022-06-01T22:19:18.870600Z",
     "iopub.status.busy": "2022-06-01T22:19:18.869514Z",
     "iopub.status.idle": "2022-06-01T22:19:18.892300Z",
     "shell.execute_reply": "2022-06-01T22:19:18.891481Z"
    },
    "papermill": {
     "duration": 0.049517,
     "end_time": "2022-06-01T22:19:18.894124",
     "exception": false,
     "start_time": "2022-06-01T22:19:18.844607",
     "status": "completed"
    },
    "tags": []
   },
   "outputs": [
    {
     "data": {
      "text/html": [
       "<div>\n",
       "<style scoped>\n",
       "    .dataframe tbody tr th:only-of-type {\n",
       "        vertical-align: middle;\n",
       "    }\n",
       "\n",
       "    .dataframe tbody tr th {\n",
       "        vertical-align: top;\n",
       "    }\n",
       "\n",
       "    .dataframe thead th {\n",
       "        text-align: right;\n",
       "    }\n",
       "</style>\n",
       "<table border=\"1\" class=\"dataframe\">\n",
       "  <thead>\n",
       "    <tr style=\"text-align: right;\">\n",
       "      <th></th>\n",
       "      <th>user_id</th>\n",
       "      <th>age</th>\n",
       "      <th>is_male</th>\n",
       "      <th>orig_user_id</th>\n",
       "    </tr>\n",
       "  </thead>\n",
       "  <tbody>\n",
       "    <tr>\n",
       "      <th>0</th>\n",
       "      <td>0</td>\n",
       "      <td>24</td>\n",
       "      <td>1</td>\n",
       "      <td>1</td>\n",
       "    </tr>\n",
       "    <tr>\n",
       "      <th>1</th>\n",
       "      <td>1</td>\n",
       "      <td>53</td>\n",
       "      <td>0</td>\n",
       "      <td>2</td>\n",
       "    </tr>\n",
       "    <tr>\n",
       "      <th>2</th>\n",
       "      <td>2</td>\n",
       "      <td>23</td>\n",
       "      <td>1</td>\n",
       "      <td>3</td>\n",
       "    </tr>\n",
       "    <tr>\n",
       "      <th>3</th>\n",
       "      <td>3</td>\n",
       "      <td>24</td>\n",
       "      <td>1</td>\n",
       "      <td>4</td>\n",
       "    </tr>\n",
       "    <tr>\n",
       "      <th>4</th>\n",
       "      <td>4</td>\n",
       "      <td>33</td>\n",
       "      <td>0</td>\n",
       "      <td>5</td>\n",
       "    </tr>\n",
       "    <tr>\n",
       "      <th>...</th>\n",
       "      <td>...</td>\n",
       "      <td>...</td>\n",
       "      <td>...</td>\n",
       "      <td>...</td>\n",
       "    </tr>\n",
       "    <tr>\n",
       "      <th>938</th>\n",
       "      <td>938</td>\n",
       "      <td>26</td>\n",
       "      <td>0</td>\n",
       "      <td>939</td>\n",
       "    </tr>\n",
       "    <tr>\n",
       "      <th>939</th>\n",
       "      <td>939</td>\n",
       "      <td>32</td>\n",
       "      <td>1</td>\n",
       "      <td>940</td>\n",
       "    </tr>\n",
       "    <tr>\n",
       "      <th>940</th>\n",
       "      <td>940</td>\n",
       "      <td>20</td>\n",
       "      <td>1</td>\n",
       "      <td>941</td>\n",
       "    </tr>\n",
       "    <tr>\n",
       "      <th>941</th>\n",
       "      <td>941</td>\n",
       "      <td>48</td>\n",
       "      <td>0</td>\n",
       "      <td>942</td>\n",
       "    </tr>\n",
       "    <tr>\n",
       "      <th>942</th>\n",
       "      <td>942</td>\n",
       "      <td>22</td>\n",
       "      <td>1</td>\n",
       "      <td>943</td>\n",
       "    </tr>\n",
       "  </tbody>\n",
       "</table>\n",
       "<p>943 rows × 4 columns</p>\n",
       "</div>"
      ],
      "text/plain": [
       "     user_id  age  is_male  orig_user_id\n",
       "0          0   24        1             1\n",
       "1          1   53        0             2\n",
       "2          2   23        1             3\n",
       "3          3   24        1             4\n",
       "4          4   33        0             5\n",
       "..       ...  ...      ...           ...\n",
       "938      938   26        0           939\n",
       "939      939   32        1           940\n",
       "940      940   20        1           941\n",
       "941      941   48        0           942\n",
       "942      942   22        1           943\n",
       "\n",
       "[943 rows x 4 columns]"
      ]
     },
     "execution_count": 17,
     "metadata": {},
     "output_type": "execute_result"
    }
   ],
   "source": [
    "user_info_df = pd.read_csv('../input/movie-rating-recommendation/user_info.csv')\n",
    "user_info_df"
   ]
  },
  {
   "cell_type": "markdown",
   "id": "8972a862",
   "metadata": {
    "papermill": {
     "duration": 0.022778,
     "end_time": "2022-06-01T22:19:18.940980",
     "exception": false,
     "start_time": "2022-06-01T22:19:18.918202",
     "status": "completed"
    },
    "tags": []
   },
   "source": [
    "### Distribution of User Age\n"
   ]
  },
  {
   "cell_type": "code",
   "execution_count": 18,
   "id": "cf1a57c2",
   "metadata": {
    "execution": {
     "iopub.execute_input": "2022-06-01T22:19:18.992045Z",
     "iopub.status.busy": "2022-06-01T22:19:18.991151Z",
     "iopub.status.idle": "2022-06-01T22:19:19.240697Z",
     "shell.execute_reply": "2022-06-01T22:19:19.239756Z"
    },
    "papermill": {
     "duration": 0.277969,
     "end_time": "2022-06-01T22:19:19.243281",
     "exception": false,
     "start_time": "2022-06-01T22:19:18.965312",
     "status": "completed"
    },
    "tags": []
   },
   "outputs": [
    {
     "data": {
      "text/plain": [
       "Text(0.5, 1.0, 'Distribution of Age across All users')"
      ]
     },
     "execution_count": 18,
     "metadata": {},
     "output_type": "execute_result"
    },
    {
     "data": {
      "image/png": "[encoded data removed]",
      "text/plain": [
       "<Figure size 432x288 with 1 Axes>"
      ]
     },
     "metadata": {
      "needs_background": "light"
     },
     "output_type": "display_data"
    }
   ],
   "source": [
    "ax = sns.histplot(user_info_df['age'],kde=True)\n",
    "ax.set_title(\"Distribution of Age across All users\")"
   ]
  },
  {
   "cell_type": "markdown",
   "id": "344f0d4e",
   "metadata": {
    "papermill": {
     "duration": 0.025212,
     "end_time": "2022-06-01T22:19:19.295000",
     "exception": false,
     "start_time": "2022-06-01T22:19:19.269788",
     "status": "completed"
    },
    "tags": []
   },
   "source": [
    "### Distribution of Age for Male and Female"
   ]
  },
  {
   "cell_type": "code",
   "execution_count": 19,
   "id": "4637079d",
   "metadata": {
    "execution": {
     "iopub.execute_input": "2022-06-01T22:19:19.340540Z",
     "iopub.status.busy": "2022-06-01T22:19:19.340141Z",
     "iopub.status.idle": "2022-06-01T22:19:19.797568Z",
     "shell.execute_reply": "2022-06-01T22:19:19.796625Z"
    },
    "papermill": {
     "duration": 0.477194,
     "end_time": "2022-06-01T22:19:19.799332",
     "exception": false,
     "start_time": "2022-06-01T22:19:19.322138",
     "status": "completed"
    },
    "tags": []
   },
   "outputs": [
    {
     "data": {
      "text/plain": [
       "<seaborn.axisgrid.FacetGrid at 0x7f6c60561910>"
      ]
     },
     "execution_count": 19,
     "metadata": {},
     "output_type": "execute_result"
    },
    {
     "data": {
      "image/png": "[encoded data removed]",
      "text/plain": [
       "<Figure size 405.875x360 with 1 Axes>"
      ]
     },
     "metadata": {
      "needs_background": "light"
     },
     "output_type": "display_data"
    }
   ],
   "source": [
    "sns.displot(user_info_df, x=\"age\", hue=\"is_male\", kde=True)"
   ]
  },
  {
   "cell_type": "markdown",
   "id": "7a719402",
   "metadata": {
    "papermill": {
     "duration": 0.016181,
     "end_time": "2022-06-01T22:19:19.831502",
     "exception": false,
     "start_time": "2022-06-01T22:19:19.815321",
     "status": "completed"
    },
    "tags": []
   },
   "source": [
    "## Logistic Regression Gender prediction"
   ]
  },
  {
   "cell_type": "code",
   "execution_count": 20,
   "id": "d30ccebf",
   "metadata": {
    "execution": {
     "iopub.execute_input": "2022-06-01T22:19:19.865691Z",
     "iopub.status.busy": "2022-06-01T22:19:19.865191Z",
     "iopub.status.idle": "2022-06-01T22:19:19.869641Z",
     "shell.execute_reply": "2022-06-01T22:19:19.868902Z"
    },
    "papermill": {
     "duration": 0.023994,
     "end_time": "2022-06-01T22:19:19.871757",
     "exception": false,
     "start_time": "2022-06-01T22:19:19.847763",
     "status": "completed"
    },
    "tags": []
   },
   "outputs": [],
   "source": [
    "X_train = U\n",
    "y_train = user_info_df['is_male']"
   ]
  },
  {
   "cell_type": "code",
   "execution_count": 21,
   "id": "c688e153",
   "metadata": {
    "execution": {
     "iopub.execute_input": "2022-06-01T22:19:19.924294Z",
     "iopub.status.busy": "2022-06-01T22:19:19.923943Z",
     "iopub.status.idle": "2022-06-01T22:19:20.057151Z",
     "shell.execute_reply": "2022-06-01T22:19:20.056267Z"
    },
    "papermill": {
     "duration": 0.161708,
     "end_time": "2022-06-01T22:19:20.059343",
     "exception": false,
     "start_time": "2022-06-01T22:19:19.897635",
     "status": "completed"
    },
    "tags": []
   },
   "outputs": [],
   "source": [
    "clf = LogisticRegression(random_state=0, penalty='l2',solver='sag').fit(X_train, y_train)"
   ]
  },
  {
   "cell_type": "code",
   "execution_count": 22,
   "id": "5cbaeb23",
   "metadata": {
    "execution": {
     "iopub.execute_input": "2022-06-01T22:19:20.110931Z",
     "iopub.status.busy": "2022-06-01T22:19:20.110609Z",
     "iopub.status.idle": "2022-06-01T22:19:20.118349Z",
     "shell.execute_reply": "2022-06-01T22:19:20.117616Z"
    },
    "papermill": {
     "duration": 0.036692,
     "end_time": "2022-06-01T22:19:20.121371",
     "exception": false,
     "start_time": "2022-06-01T22:19:20.084679",
     "status": "completed"
    },
    "tags": []
   },
   "outputs": [
    {
     "name": "stdout",
     "output_type": "stream",
     "text": [
      "Logistic Regression Accuracy  0.7104984093319194\n"
     ]
    }
   ],
   "source": [
    "accuracy = clf.score(X_train,y_train)\n",
    "print(\"Logistic Regression Accuracy \",accuracy)\n"
   ]
  },
  {
   "cell_type": "code",
   "execution_count": 23,
   "id": "8d84e86b",
   "metadata": {
    "execution": {
     "iopub.execute_input": "2022-06-01T22:19:20.188042Z",
     "iopub.status.busy": "2022-06-01T22:19:20.187234Z",
     "iopub.status.idle": "2022-06-01T22:19:20.195963Z",
     "shell.execute_reply": "2022-06-01T22:19:20.194778Z"
    },
    "papermill": {
     "duration": 0.044224,
     "end_time": "2022-06-01T22:19:20.198100",
     "exception": false,
     "start_time": "2022-06-01T22:19:20.153876",
     "status": "completed"
    },
    "tags": []
   },
   "outputs": [
    {
     "name": "stdout",
     "output_type": "stream",
     "text": [
      "Logistic Regression F1 score  0.8307501549907006\n"
     ]
    }
   ],
   "source": [
    "logistic_f1 = f1_score(y_train,clf.predict(X_train))\n",
    "print(\"Logistic Regression F1 score \",logistic_f1)"
   ]
  },
  {
   "cell_type": "code",
   "execution_count": 24,
   "id": "bd7a9ac5",
   "metadata": {
    "execution": {
     "iopub.execute_input": "2022-06-01T22:19:20.264407Z",
     "iopub.status.busy": "2022-06-01T22:19:20.263717Z",
     "iopub.status.idle": "2022-06-01T22:19:20.456776Z",
     "shell.execute_reply": "2022-06-01T22:19:20.456267Z"
    },
    "papermill": {
     "duration": 0.227645,
     "end_time": "2022-06-01T22:19:20.458653",
     "exception": false,
     "start_time": "2022-06-01T22:19:20.231008",
     "status": "completed"
    },
    "tags": []
   },
   "outputs": [
    {
     "data": {
      "image/png": "[encoded data removed]",
      "text/plain": [
       "<Figure size 432x288 with 2 Axes>"
      ]
     },
     "metadata": {
      "needs_background": "light"
     },
     "output_type": "display_data"
    }
   ],
   "source": [
    "y_train_pred = clf.predict(X_train)\n",
    "cm= confusion_matrix(  y_train,y_train_pred) \n",
    "ax = sns.heatmap(cm, annot=True, cmap='Blues',fmt=\"d\")\n",
    "ax.set_title('Confusion Matrix with\\n\\n');\n",
    "ax.set_xlabel('\\nPredicted Values')\n",
    "ax.set_ylabel('Actual Values ');\n",
    "ax.xaxis.set_ticklabels(['0','1'])\n",
    "ax.yaxis.set_ticklabels(['0','1'])\n",
    "## Display the visualization of the Confusion Matrix.\n",
    "plt.show()"
   ]
  },
  {
   "cell_type": "markdown",
   "id": "51efe0f9",
   "metadata": {
    "papermill": {
     "duration": 0.025311,
     "end_time": "2022-06-01T22:19:20.509298",
     "exception": false,
     "start_time": "2022-06-01T22:19:20.483987",
     "status": "completed"
    },
    "tags": []
   },
   "source": [
    "## Decision Tree Classfier Gender prediction"
   ]
  },
  {
   "cell_type": "code",
   "execution_count": 25,
   "id": "30a61852",
   "metadata": {
    "execution": {
     "iopub.execute_input": "2022-06-01T22:19:20.561349Z",
     "iopub.status.busy": "2022-06-01T22:19:20.560807Z",
     "iopub.status.idle": "2022-06-01T22:19:21.991756Z",
     "shell.execute_reply": "2022-06-01T22:19:21.990857Z"
    },
    "papermill": {
     "duration": 1.45918,
     "end_time": "2022-06-01T22:19:21.993720",
     "exception": false,
     "start_time": "2022-06-01T22:19:20.534540",
     "status": "completed"
    },
    "tags": []
   },
   "outputs": [
    {
     "data": {
      "text/plain": [
       "RandomForestClassifier(random_state=0)"
      ]
     },
     "execution_count": 25,
     "metadata": {},
     "output_type": "execute_result"
    }
   ],
   "source": [
    "rf = RandomForestClassifier(random_state=0)\n",
    "rf.fit(X_train,y_train)"
   ]
  },
  {
   "cell_type": "code",
   "execution_count": 26,
   "id": "7b728d1f",
   "metadata": {
    "execution": {
     "iopub.execute_input": "2022-06-01T22:19:22.047366Z",
     "iopub.status.busy": "2022-06-01T22:19:22.046997Z",
     "iopub.status.idle": "2022-06-01T22:19:22.081862Z",
     "shell.execute_reply": "2022-06-01T22:19:22.080163Z"
    },
    "papermill": {
     "duration": 0.065348,
     "end_time": "2022-06-01T22:19:22.084793",
     "exception": false,
     "start_time": "2022-06-01T22:19:22.019445",
     "status": "completed"
    },
    "tags": []
   },
   "outputs": [
    {
     "name": "stdout",
     "output_type": "stream",
     "text": [
      "Accuracy for Random Forest classfier  1.0\n"
     ]
    }
   ],
   "source": [
    "accuracy = rf.score(X_train,y_train)\n",
    "print(\"Accuracy for Random Forest classfier \", accuracy)"
   ]
  },
  {
   "cell_type": "code",
   "execution_count": 27,
   "id": "c43fda80",
   "metadata": {
    "execution": {
     "iopub.execute_input": "2022-06-01T22:19:22.141192Z",
     "iopub.status.busy": "2022-06-01T22:19:22.140617Z",
     "iopub.status.idle": "2022-06-01T22:19:22.349246Z",
     "shell.execute_reply": "2022-06-01T22:19:22.348393Z"
    },
    "papermill": {
     "duration": 0.239437,
     "end_time": "2022-06-01T22:19:22.351511",
     "exception": false,
     "start_time": "2022-06-01T22:19:22.112074",
     "status": "completed"
    },
    "tags": []
   },
   "outputs": [
    {
     "name": "stdout",
     "output_type": "stream",
     "text": [
      "[[273   0]\n",
      " [  0 670]]\n"
     ]
    },
    {
     "data": {
      "image/png": "[encoded data removed]",
      "text/plain": [
       "<Figure size 432x288 with 2 Axes>"
      ]
     },
     "metadata": {
      "needs_background": "light"
     },
     "output_type": "display_data"
    }
   ],
   "source": [
    "y_train_pred = rf.predict(X_train)\n",
    "cm= confusion_matrix(  y_train,y_train_pred) \n",
    "print(cm)\n",
    "ax = sns.heatmap(cm, annot=True, cmap='Blues',fmt=\"d\")\n",
    "ax.set_title('Confusion Matrix with\\n\\n');\n",
    "ax.set_xlabel('\\nPredicted Values')\n",
    "ax.set_ylabel('Actual Values ');\n",
    "ax.xaxis.set_ticklabels(['0','1'])\n",
    "ax.yaxis.set_ticklabels(['0','1'])\n",
    "## Display the visualization of the Confusion Matrix.\n",
    "plt.show()"
   ]
  },
  {
   "cell_type": "markdown",
   "id": "05647158",
   "metadata": {
    "papermill": {
     "duration": 0.016734,
     "end_time": "2022-06-01T22:19:22.393728",
     "exception": false,
     "start_time": "2022-06-01T22:19:22.376994",
     "status": "completed"
    },
    "tags": []
   },
   "source": [
    "### Observation\n",
    "* Logistic Regression Accuracy 0.71 and F1 score 0.83\n",
    "* For Logistic Regression There are **Zero True Negative (TN)** and **Zero False Negative (FN)** \n",
    "* Random Forest classfier gives 100 percent accuracy\n",
    "* There are **Zero False Negative (FN)** and **Zero False Positive(FP)**.\n",
    "\n",
    "\n"
   ]
  }
 ],
 "metadata": {
  "kernelspec": {
   "display_name": "Python 3",
   "language": "python",
   "name": "python3"
  },
  "language_info": {
   "codemirror_mode": {
    "name": "ipython",
    "version": 3
   },
   "file_extension": ".py",
   "mimetype": "text/x-python",
   "name": "python",
   "nbconvert_exporter": "python",
   "pygments_lexer": "ipython3",
   "version": "3.7.12"
  },
  "papermill": {
   "default_parameters": {},
   "duration": 225.027245,
   "end_time": "2022-06-01T22:19:23.433248",
   "environment_variables": {},
   "exception": null,
   "input_path": "__notebook__.ipynb",
   "output_path": "__notebook__.ipynb",
   "parameters": {},
   "start_time": "2022-06-01T22:15:38.406003",
   "version": "2.3.4"
  }
 },
 "nbformat": 4,
 "nbformat_minor": 5
}
